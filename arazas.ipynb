{
 "cells": [
  {
   "cell_type": "code",
   "execution_count": 1,
   "metadata": {},
   "outputs": [
    {
     "name": "stdout",
     "output_type": "stream",
     "text": [
      "Collecting package metadata (current_repodata.json): ...working... done\n",
      "Solving environment: ...working... done\n",
      "\n",
      "# All requested packages already installed.\n",
      "\n"
     ]
    },
    {
     "name": "stderr",
     "output_type": "stream",
     "text": [
      "\n",
      "\n",
      "==> WARNING: A newer version of conda exists. <==\n",
      "  current version: 4.12.0\n",
      "  latest version: 23.1.0\n",
      "\n",
      "Please update conda by running\n",
      "\n",
      "    $ conda update -n base -c defaults conda\n",
      "\n",
      "\n"
     ]
    }
   ],
   "source": [
    "!conda install -y quantecon"
   ]
  },
  {
   "cell_type": "code",
   "execution_count": 2,
   "metadata": {},
   "outputs": [],
   "source": [
    "%matplotlib inline\n",
    "import math\n",
    "import numpy as np\n",
    "import matplotlib.pyplot as plt\n",
    "import quantecon as qe\n",
    "import pandas as pd\n",
    "import statistics as stat\n",
    "from scipy.stats import norm\n",
    "from numpy.linalg import eigvals, solve"
   ]
  },
  {
   "cell_type": "markdown",
   "metadata": {},
   "source": [
    "## Built-in functions of Markov-chains"
   ]
  },
  {
   "cell_type": "code",
   "execution_count": 15,
   "metadata": {},
   "outputs": [
    {
     "data": {
      "text/plain": [
       "array(['l', 's', 's', 's', 's', 's', 'p', 'l', 'l', 'l'], dtype='<U1')"
      ]
     },
     "execution_count": 15,
     "metadata": {},
     "output_type": "execute_result"
    }
   ],
   "source": [
    "P = np.array([[0.5, 0.1, 0.4],\n",
    "            [0.15, 0.7, 0.15],\n",
    "            [0.3, 0.1, 0.6]])\n",
    "\n",
    "mc = qe.MarkovChain(P, state_values=('p', 's', 'l'))\n",
    "mc.simulate(10)"
   ]
  },
  {
   "cell_type": "code",
   "execution_count": 4,
   "metadata": {},
   "outputs": [
    {
     "data": {
      "text/plain": [
       "array([[0.328125, 0.25    , 0.421875]])"
      ]
     },
     "execution_count": 4,
     "metadata": {},
     "output_type": "execute_result"
    }
   ],
   "source": [
    "mc.stationary_distributions"
   ]
  },
  {
   "cell_type": "code",
   "execution_count": 5,
   "metadata": {},
   "outputs": [
    {
     "data": {
      "text/plain": [
       "array([2, 2, 2, 2, 2, 1, 1, 1, 1, 2])"
      ]
     },
     "execution_count": 5,
     "metadata": {},
     "output_type": "execute_result"
    }
   ],
   "source": [
    "P = np.array([[0.5, 0.1, 0.4],\n",
    "            [0.15, 0.7, 0.15],\n",
    "            [0.3, 0.1, 0.6]])\n",
    "\n",
    "μ = [0.2, 0.35, 0.45]\n",
    "\n",
    "mc = qe.MarkovChain(P)\n",
    "mc.simulate(10, init = np.random.choice([0, 1, 2], p = μ))"
   ]
  },
  {
   "cell_type": "code",
   "execution_count": 6,
   "metadata": {},
   "outputs": [
    {
     "data": {
      "text/plain": [
       "[array(['C', 'D'], dtype='<U1'),\n",
       " array(['A', 'B'], dtype='<U1'),\n",
       " array(['E'], dtype='<U1')]"
      ]
     },
     "execution_count": 6,
     "metadata": {},
     "output_type": "execute_result"
    }
   ],
   "source": [
    "P = np.array([[0, 1/2, 1/2, 0, 0],\n",
    "            [1/3, 1/3, 0, 1/3, 0],\n",
    "            [0, 0, 0, 1, 0],\n",
    "            [0, 0, 1, 0, 0],\n",
    "            [0, 0, 1/2, 1/2, 0]])\n",
    "\n",
    "mc = qe.MarkovChain(P,['A','B','C','D','E'])\n",
    "mc.communication_classes"
   ]
  },
  {
   "cell_type": "code",
   "execution_count": 7,
   "metadata": {},
   "outputs": [
    {
     "data": {
      "text/plain": [
       "False"
      ]
     },
     "execution_count": 7,
     "metadata": {},
     "output_type": "execute_result"
    }
   ],
   "source": [
    "mc.is_irreducible"
   ]
  },
  {
   "cell_type": "code",
   "execution_count": 8,
   "metadata": {},
   "outputs": [
    {
     "data": {
      "text/plain": [
       "1"
      ]
     },
     "execution_count": 8,
     "metadata": {},
     "output_type": "execute_result"
    }
   ],
   "source": [
    "P = np.array([[0.5, 0.1, 0.4],\n",
    "            [0.15, 0.7, 0.15],\n",
    "            [0.3, 0.1, 0.6]])\n",
    "mc = qe.MarkovChain(P)\n",
    "mc.period"
   ]
  },
  {
   "cell_type": "code",
   "execution_count": 9,
   "metadata": {},
   "outputs": [
    {
     "data": {
      "text/plain": [
       "True"
      ]
     },
     "execution_count": 9,
     "metadata": {},
     "output_type": "execute_result"
    }
   ],
   "source": [
    "mc.is_aperiodic"
   ]
  },
  {
   "cell_type": "code",
   "execution_count": 10,
   "metadata": {},
   "outputs": [
    {
     "data": {
      "text/plain": [
       "array([[0.328125, 0.25    , 0.421875]])"
      ]
     },
     "execution_count": 10,
     "metadata": {},
     "output_type": "execute_result"
    }
   ],
   "source": [
    "P = np.array([[0.5, 0.1, 0.4],\n",
    "            [0.15, 0.7, 0.15],\n",
    "            [0.3, 0.1, 0.6]])\n",
    "\n",
    "mc = qe.MarkovChain(P)\n",
    "mc.stationary_distributions"
   ]
  },
  {
   "cell_type": "code",
   "execution_count": 11,
   "metadata": {},
   "outputs": [
    {
     "data": {
      "text/plain": [
       "array([0.32812499, 0.25      , 0.42187501])"
      ]
     },
     "execution_count": 11,
     "metadata": {},
     "output_type": "execute_result"
    }
   ],
   "source": [
    "μ_1 = np.array([0.25, 0.25, 0.5])\n",
    "np.matmul(μ_1,np.linalg.matrix_power(P, 10))"
   ]
  },
  {
   "cell_type": "code",
   "execution_count": 12,
   "metadata": {},
   "outputs": [
    {
     "data": {
      "text/plain": [
       "array([0.32812499, 0.25000002, 0.42187499])"
      ]
     },
     "execution_count": 12,
     "metadata": {},
     "output_type": "execute_result"
    }
   ],
   "source": [
    "μ_2 = np.array([1/3, 1/3, 1/3])\n",
    "np.matmul(μ_2,np.linalg.matrix_power(P, 30))"
   ]
  },
  {
   "cell_type": "markdown",
   "metadata": {},
   "source": [
    "## Markov-chain based on historical data"
   ]
  },
  {
   "cell_type": "markdown",
   "metadata": {},
   "source": [
    "\n",
    "\n",
    "\n",
    "\n",
    "\n",
    "\n",
    "\n",
    "\n"
   ]
  },
  {
   "cell_type": "code",
   "execution_count": 16,
   "metadata": {},
   "outputs": [],
   "source": [
    "def create_mc(dividends: int, n: int):\n",
    "    changes = np.array([])\n",
    "    for i in range(1,len(dividends)):\n",
    "        \n",
    "        change = dividends[i]/dividends[i-1]\n",
    "        changes = np.insert(changes,0,change)\n",
    "        \n",
    "    clastered_changes = np.linspace(min(changes) + 0.0001, max(changes) - 0.0001, n-1)\n",
    "    clasters = [(clastered_changes[i] + clastered_changes[i-1])/2 for i in range(n-2)]\n",
    "    clasters.append(min(changes))\n",
    "    clasters.append(max(changes))\n",
    "    \n",
    "    changes_dict = []\n",
    "    for i in changes:\n",
    "        place = 0\n",
    "        while i > clastered_changes[place]:\n",
    "            place += 1\n",
    "            if place == n-1:\n",
    "                break\n",
    "        if i == min(changes):\n",
    "            changes_dict.append(i)\n",
    "        elif i == max(changes):\n",
    "            changes_dict.append(i)\n",
    "        else:\n",
    "            changes_dict.append((clastered_changes[place] + clastered_changes[place-1])/2)\n",
    "            \n",
    "    clasters_dict = {clasters[i]:i for i in range(n)}\n",
    "            \n",
    "    n = len(clasters)\n",
    "    P = np.zeros((n, n))\n",
    "    for i in range(2,len(changes_dict)):\n",
    "        state_1 = changes_dict[i-1]\n",
    "        state_2 = changes_dict[i]\n",
    "        P[clasters_dict[state_1]][clasters_dict[state_2]] += 1\n",
    "\n",
    "\n",
    "    row_sums = P.sum(axis=1)\n",
    "    for i in range(len(row_sums)):\n",
    "        if row_sums[i] == 0:\n",
    "            for j in range(n):\n",
    "                P[i][j] = 1/n\n",
    "            clasters[i] = 1\n",
    "        else:\n",
    "            P[i] = P[i] / row_sums[i]\n",
    "    \n",
    "\n",
    "    mc = qe.MarkovChain(P, state_values = clasters)\n",
    "    \n",
    "    \n",
    "    return mc\n"
   ]
  },
  {
   "cell_type": "code",
   "execution_count": 14,
   "metadata": {},
   "outputs": [
    {
     "ename": "NameError",
     "evalue": "name 'd2' is not defined",
     "output_type": "error",
     "traceback": [
      "\u001b[1;31m---------------------------------------------------------------------------\u001b[0m",
      "\u001b[1;31mNameError\u001b[0m                                 Traceback (most recent call last)",
      "\u001b[1;32m<ipython-input-14-738d068df946>\u001b[0m in \u001b[0;36m<module>\u001b[1;34m\u001b[0m\n\u001b[0;32m      1\u001b[0m \u001b[0mn\u001b[0m \u001b[1;33m=\u001b[0m \u001b[1;36m1000\u001b[0m\u001b[1;33m\u001b[0m\u001b[1;33m\u001b[0m\u001b[0m\n\u001b[1;32m----> 2\u001b[1;33m \u001b[0mmc\u001b[0m \u001b[1;33m=\u001b[0m \u001b[0mcompare_lol\u001b[0m\u001b[1;33m(\u001b[0m\u001b[1;33m)\u001b[0m\u001b[1;33m\u001b[0m\u001b[1;33m\u001b[0m\u001b[0m\n\u001b[0m\u001b[0;32m      3\u001b[0m \u001b[1;33m\u001b[0m\u001b[0m\n\u001b[0;32m      4\u001b[0m \u001b[0msimulation\u001b[0m \u001b[1;33m=\u001b[0m \u001b[1;33m[\u001b[0m\u001b[0md2\u001b[0m\u001b[1;33m[\u001b[0m\u001b[1;36m0\u001b[0m\u001b[1;33m]\u001b[0m\u001b[1;33m*\u001b[0m\u001b[0mnp\u001b[0m\u001b[1;33m.\u001b[0m\u001b[0mcumprod\u001b[0m\u001b[1;33m(\u001b[0m\u001b[0mmc\u001b[0m\u001b[1;33m.\u001b[0m\u001b[0msimulate\u001b[0m\u001b[1;33m(\u001b[0m\u001b[0mlen\u001b[0m\u001b[1;33m(\u001b[0m\u001b[0md2\u001b[0m\u001b[1;33m)\u001b[0m\u001b[1;33m)\u001b[0m\u001b[1;33m)\u001b[0m\u001b[1;32mfor\u001b[0m \u001b[0mi\u001b[0m \u001b[1;32min\u001b[0m \u001b[0mrange\u001b[0m\u001b[1;33m(\u001b[0m\u001b[0mn\u001b[0m\u001b[1;33m)\u001b[0m \u001b[1;33m]\u001b[0m\u001b[1;33m\u001b[0m\u001b[1;33m\u001b[0m\u001b[0m\n\u001b[0;32m      5\u001b[0m \u001b[1;33m\u001b[0m\u001b[0m\n",
      "\u001b[1;32m<ipython-input-13-543827340329>\u001b[0m in \u001b[0;36mcompare_lol\u001b[1;34m()\u001b[0m\n\u001b[0;32m      1\u001b[0m \u001b[1;32mdef\u001b[0m \u001b[0mcompare_lol\u001b[0m\u001b[1;33m(\u001b[0m\u001b[1;33m)\u001b[0m\u001b[1;33m:\u001b[0m\u001b[1;33m\u001b[0m\u001b[1;33m\u001b[0m\u001b[0m\n\u001b[1;32m----> 2\u001b[1;33m     \u001b[0mdividends\u001b[0m \u001b[1;33m=\u001b[0m \u001b[0md2\u001b[0m\u001b[1;33m\u001b[0m\u001b[1;33m\u001b[0m\u001b[0m\n\u001b[0m\u001b[0;32m      3\u001b[0m     \u001b[0mn\u001b[0m \u001b[1;33m=\u001b[0m \u001b[1;36m25\u001b[0m\u001b[1;33m\u001b[0m\u001b[1;33m\u001b[0m\u001b[0m\n\u001b[0;32m      4\u001b[0m     \u001b[0mchanges\u001b[0m \u001b[1;33m=\u001b[0m \u001b[0mnp\u001b[0m\u001b[1;33m.\u001b[0m\u001b[0marray\u001b[0m\u001b[1;33m(\u001b[0m\u001b[1;33m[\u001b[0m\u001b[1;33m]\u001b[0m\u001b[1;33m)\u001b[0m\u001b[1;33m\u001b[0m\u001b[1;33m\u001b[0m\u001b[0m\n\u001b[0;32m      5\u001b[0m     \u001b[1;32mfor\u001b[0m \u001b[0mi\u001b[0m \u001b[1;32min\u001b[0m \u001b[0mrange\u001b[0m\u001b[1;33m(\u001b[0m\u001b[1;36m1\u001b[0m\u001b[1;33m,\u001b[0m\u001b[0mlen\u001b[0m\u001b[1;33m(\u001b[0m\u001b[0mdividends\u001b[0m\u001b[1;33m)\u001b[0m\u001b[1;33m)\u001b[0m\u001b[1;33m:\u001b[0m\u001b[1;33m\u001b[0m\u001b[1;33m\u001b[0m\u001b[0m\n",
      "\u001b[1;31mNameError\u001b[0m: name 'd2' is not defined"
     ]
    }
   ],
   "source": [
    "# dividends = ???\n",
    "# mc = create_mc(dividends ,1000)\n",
    "\n",
    "# simulation = [dividends[0]*np.cumprod(mc.simulate(len(d2)))for i in range(n) ]\n",
    "\n",
    "# mean = np.array(simulation).mean(axis=0)\n",
    "\n",
    "# series = [d2, mean]\n",
    "# labels = ['original','mean of 1000 simulations']\n",
    "\n",
    "# fig, ax = plt.subplots(1, 1)\n",
    "# for s, label, c in zip(series, labels, ['b','r']):\n",
    "#     ax.plot(s, c, lw=2, label=label)\n",
    "#     ax.legend(loc='upper left', frameon=False)\n",
    "# plt.tight_layout()\n",
    "# fig.set_figwidth(14)\n",
    "# plt.show()\n",
    "# a_list = [np.mean(mean),np.std(mean),stat.median(mean)]\n",
    "# b_list = [np.mean(d2),np.std(d2),stat.median(d2)]\n",
    "# datas = {\"mean of 100 simulations\" : a_list,\"original data\" : b_list}\n",
    "# pd.DataFrame(datas, index = [\"mean\", \"standard deviation\", \"median\"])"
   ]
  },
  {
   "cell_type": "markdown",
   "metadata": {},
   "source": [
    "## Two methods for approximating AR(1) processes with finite Markov-chains"
   ]
  },
  {
   "cell_type": "code",
   "execution_count": 17,
   "metadata": {},
   "outputs": [],
   "source": [
    "def rouwenhorst(n, sigma_e, alpha):\n",
    "\n",
    "    \n",
    "    sigma_x = np.sqrt(sigma_e**2 / (1 - alpha**2))\n",
    "    p = (1 + alpha) / 2\n",
    "    q = p\n",
    "    psi = sigma_x * np.sqrt(n - 1)\n",
    "    states = np.linspace(-psi, psi, n)\n",
    "\n",
    "    def theta_matrix(n, p, q):\n",
    "\n",
    "        if n == 2:\n",
    "            theta = np.array([[p, 1 - p], [1 - q, q]])\n",
    "\n",
    "        elif n > 2:\n",
    "            p1 = np.zeros((n, n))\n",
    "            p2 = np.zeros((n, n))\n",
    "            p3 = np.zeros((n, n))\n",
    "            p4 = np.zeros((n, n))\n",
    "\n",
    "            new_mat = theta_matrix(n - 1, p, q)\n",
    "\n",
    "            p1[:n - 1, :n - 1] = p * new_mat\n",
    "            p2[:n - 1, 1:] = (1 - p) * new_mat\n",
    "            p3[1:, :-1] = (1 - q) * new_mat\n",
    "            p4[1:, 1:] = q * new_mat\n",
    "\n",
    "            theta = p1 + p2 + p3 + p4\n",
    "            theta[1:n - 1, :] = theta[1:n - 1, :] / 2\n",
    "\n",
    "        else:\n",
    "            raise ValueError(\"The number of states must be greater than or equal to 2.\")\n",
    "\n",
    "        return theta\n",
    "\n",
    "    theta = theta_matrix(n, p, q)\n",
    "\n",
    "    return qe.MarkovChain(theta, states)\n",
    "\n",
    "\n",
    "def tauchen(n, sigma_e, alpha, m = 3):\n",
    "\n",
    "    sigma_x = np.sqrt(sigma_e**2 / (1 - alpha**2))\n",
    "\n",
    "    states = np.linspace(-m * sigma_x, m * sigma_x, n)\n",
    "\n",
    "    step = (2*m*sigma_x) / (n - 1)\n",
    "    half_step = step / 2\n",
    "    P = np.empty((n, n))\n",
    "    for i in range(n):\n",
    "        P[i][0] = norm.cdf((states[0]-alpha*states[i]+half_step)/sigma_e)\n",
    "        P[i][n-1] = 1-norm.cdf((states[n-1]-alpha*states[i]-half_step)/sigma_e)\n",
    "        for j in range(1,n-1):\n",
    "            P[i][j] = norm.cdf((states[j]-alpha*states[i]+step/2)/sigma_e)\n",
    "            P[i][j] -= norm.cdf((states[j]-alpha*states[i]-step/2)/sigma_e)\n",
    "\n",
    "    mc = qe.MarkovChain(P, states)\n",
    "\n",
    "    return mc"
   ]
  },
  {
   "cell_type": "code",
   "execution_count": 18,
   "metadata": {},
   "outputs": [
    {
     "data": {
      "image/png": "[encoded data removed]",
      "text/plain": [
       "<Figure size 432x288 with 1 Axes>"
      ]
     },
     "metadata": {
      "needs_background": "light"
     },
     "output_type": "display_data"
    }
   ],
   "source": [
    "n = 101\n",
    "alpha = 0.5\n",
    "sigma_e = 2\n",
    "steps = 50\n",
    "\n",
    "AR = [0]\n",
    "AR += [alpha*AR[-1] + np.random.normal(0,sigma_e) for i in range(steps-1)]\n",
    "T = tauchen(n, sigma_e, alpha).simulate(steps,init=0)\n",
    "R = rouwenhorst(n, sigma_e, alpha).simulate(steps,init=0)\n",
    "    \n",
    "series = [R, T, AR]\n",
    "labels = ['Rouwenhorst','Tauchen', 'AR(1)']\n",
    "\n",
    "fig, ax = plt.subplots(1, 1)\n",
    "for s, label, c in zip(series, labels, ['b','r','g']):\n",
    "    ax.plot(s, c, lw=2, label=label)\n",
    "ax.legend(loc='upper left', frameon=False)\n",
    "plt.show()"
   ]
  },
  {
   "cell_type": "markdown",
   "metadata": {},
   "source": [
    "## Class for assets of the first type: constant dividends"
   ]
  },
  {
   "cell_type": "code",
   "execution_count": 19,
   "metadata": {},
   "outputs": [],
   "source": [
    "class modell1:\n",
    "    \n",
    "    def __init__(self, d, β=0.9):\n",
    "        \n",
    "        warning_message = \"Inappropriate discount factor.\"\n",
    "        assert β < 1 and β > 0,  warning_message\n",
    "        \n",
    "        self.d = d\n",
    "        self.β = β\n",
    "        \n",
    "    def __str__ (self):\n",
    "        return 'Asset with dividend ' + str(self.d)\n",
    "        \n",
    "    def eq_price(self):\n",
    "        \n",
    "        p = self.β*self.d/(1 - self.β)\n",
    "        self.p = p\n",
    "    \n",
    "        return self.p\n",
    "        \n",
    "    def simulate(self, steps):\n",
    "        modell1.eq_price(self)\n",
    "        print('The current equilibrium price is ' + str(self.p))\n",
    "        \n",
    "        d_series = [self.d for i in range(steps)]\n",
    "        \n",
    "        p_series = [self.p for i in range(steps)]\n",
    "\n",
    "\n",
    "        series = [d_series, p_series]\n",
    "        labels = ['dividends', 'prices']\n",
    "\n",
    "        fig, axes = plt.subplots(1, 2)\n",
    "        fig.set_size_inches(10, 2)\n",
    "        for ax, s, label in zip(axes.flatten(), series, labels):\n",
    "            ax.plot(s, 'b-', lw=2, label=label)\n",
    "            ax.legend(loc='upper right', frameon=False)\n",
    "        plt.tight_layout()\n",
    "        plt.show()  "
   ]
  },
  {
   "cell_type": "code",
   "execution_count": 20,
   "metadata": {},
   "outputs": [
    {
     "name": "stdout",
     "output_type": "stream",
     "text": [
      "The current equilibrium price is 90.00000000000001\n"
     ]
    },
    {
     "data": {
      "image/png": "[encoded data removed]",
      "text/plain": [
       "<Figure size 720x144 with 2 Axes>"
      ]
     },
     "metadata": {
      "needs_background": "light"
     },
     "output_type": "display_data"
    }
   ],
   "source": [
    "m1 = modell1(10)\n",
    "m1.simulate(50)"
   ]
  },
  {
   "cell_type": "markdown",
   "metadata": {},
   "source": [
    "## Class for assets of the second type: geometric series as dividends"
   ]
  },
  {
   "cell_type": "code",
   "execution_count": 21,
   "metadata": {},
   "outputs": [],
   "source": [
    "class modell2:\n",
    "    \n",
    "    def __init__(self, d, g = 1, β=0.9):\n",
    "        \n",
    "        warning_message = \"Inappropriate discount factor or dividend.\"\n",
    "        assert β*g < 1 and β*g > 0 and β > 0,  warning_message\n",
    "        \n",
    "        self.d = d\n",
    "        self.g = g\n",
    "        self.β = β\n",
    "        \n",
    "    def __str__ (self):\n",
    "        return 'Asset with first dividend' + str(self.d) + ' growing by ' + str(self.g)\n",
    "        \n",
    "    def eq_price(self, t = 1):\n",
    "        \n",
    "        p_t = (self.β*self.g/(1 - self.β*self.g))*self.d*self.g**t\n",
    "    \n",
    "        return p_t\n",
    "    \n",
    "        \n",
    "    def simulate(self, steps):\n",
    "        p = [modell2.eq_price(self, i) for i in range(1,steps+1)]\n",
    "        self.p = p\n",
    "        print('The current equilibrium price is ' + str(self.p[0]))\n",
    "        \n",
    "        d_series = [self.d*self.g**i for i in range(steps)]\n",
    "\n",
    "        p_series = self.p\n",
    "\n",
    "        series = [d_series, p_series]\n",
    "        labels = ['dividends', 'prices']\n",
    "\n",
    "        fig, axes = plt.subplots(1, 2)\n",
    "        fig.set_size_inches(10, 2)\n",
    "        for ax, s, label in zip(axes.flatten(), series, labels):\n",
    "            ax.plot(s, 'b-', lw=2, label=label)\n",
    "            ax.legend(loc='upper right', frameon=False)\n",
    "        plt.tight_layout()\n",
    "        plt.show()"
   ]
  },
  {
   "cell_type": "code",
   "execution_count": 22,
   "metadata": {},
   "outputs": [
    {
     "name": "stdout",
     "output_type": "stream",
     "text": [
      "The current equilibrium price is 114.1902439024391\n"
     ]
    },
    {
     "data": {
      "image/png": "[encoded data removed]",
      "text/plain": [
       "<Figure size 720x144 with 2 Axes>"
      ]
     },
     "metadata": {
      "needs_background": "light"
     },
     "output_type": "display_data"
    }
   ],
   "source": [
    "m2 = modell2(10, 1.02)\n",
    "m2.simulate(50)"
   ]
  },
  {
   "cell_type": "markdown",
   "metadata": {},
   "source": [
    "## Class for assets of the first type: Markov growth"
   ]
  },
  {
   "cell_type": "code",
   "execution_count": 23,
   "metadata": {},
   "outputs": [],
   "source": [
    "class modell3:\n",
    "    \n",
    "    def __init__(self, d, method = tauchen, x0 = 0, g = np.exp, β=0.9):\n",
    "        \n",
    "        warning_message = \"Inappropriate discount factor.\"\n",
    "        assert β < 1 and β > 0,  warning_message\n",
    "        \n",
    "        self.d = d\n",
    "        self.x0 = x0\n",
    "        self.method = method\n",
    "        self.g = g\n",
    "        self.β = β\n",
    "        \n",
    "        n = 25\n",
    "        self.mc = self.method(n, 0.01, 0.96)\n",
    "        \n",
    "        K = self.g(self.mc.state_values) * self.mc.P\n",
    "        I = np.identity(n)\n",
    "\n",
    "        warning_message = \"Matrix is not invertible.\"\n",
    "        assert np.max(np.abs(eigvals(K))) < 1 / β,  warning_message\n",
    "\n",
    "        v = solve(I - self.β * K, self.β * K @ np.ones(n))\n",
    "        V = {self.mc.state_values[i]: v[i] for i in range(n)}\n",
    "        \n",
    "        self.V = V\n",
    "        \n",
    "    def __str__ (self):\n",
    "        return 'Asset with first dividend' + str(self.d) + ' growing by Markov growth '\n",
    "        \n",
    "    def eq_price(self, x = None, d = None):\n",
    "        \n",
    "        if x == None:\n",
    "            x = self.x0       \n",
    "        if d == None:\n",
    "            d = self.d\n",
    "        \n",
    "        p = d*self.V[x]\n",
    "    \n",
    "        return p\n",
    "    \n",
    "        \n",
    "    def simulate(self, steps, X = True, g = True, d = True, p = True):\n",
    "        X_series = self.mc.simulate(steps, init = self.x0)\n",
    "        g_series = self.g(X_series)\n",
    "        d_series = self.d*np.cumprod(g_series)\n",
    "        p_series = []\n",
    "        for i in range(steps):\n",
    "            x = X_series[i]\n",
    "            d = d_series[i]\n",
    "            p_series.append(modell3.eq_price(self, x, d))\n",
    "            \n",
    "        print('The current equilibrium price is '+ str(p_series[0]))\n",
    "\n",
    "        verbose = [X, g, d, p]\n",
    "        series = [X_series, g_series, d_series, p_series]\n",
    "        labels = ['states','g function','dividends', 'prices']\n",
    "\n",
    "        fig, axes = plt.subplots(2, 2)\n",
    "        fig.set_size_inches(10, 4)\n",
    "        for ax, s, label in zip(axes.flatten(), series, labels):\n",
    "            ax.plot(s, 'b-', lw=2, label=label)\n",
    "            ax.legend(loc='upper right', frameon=False)\n",
    "        plt.tight_layout()\n",
    "        plt.show()  "
   ]
  },
  {
   "cell_type": "code",
   "execution_count": 24,
   "metadata": {
    "scrolled": true
   },
   "outputs": [
    {
     "name": "stdout",
     "output_type": "stream",
     "text": [
      "The current equilibrium price is 94.5185134172666\n"
     ]
    },
    {
     "data": {
      "image/png": "[encoded data removed]",
      "text/plain": [
       "<Figure size 720x288 with 4 Axes>"
      ]
     },
     "metadata": {
      "needs_background": "light"
     },
     "output_type": "display_data"
    }
   ],
   "source": [
    "m3 = modell3(10)\n",
    "m3.simulate(50)"
   ]
  },
  {
   "cell_type": "code",
   "execution_count": 25,
   "metadata": {},
   "outputs": [
    {
     "name": "stdout",
     "output_type": "stream",
     "text": [
      "The current equilibrium price is 94.25223144625915\n"
     ]
    },
    {
     "data": {
      "image/png": "[encoded data removed]",
      "text/plain": [
       "<Figure size 720x288 with 4 Axes>"
      ]
     },
     "metadata": {
      "needs_background": "light"
     },
     "output_type": "display_data"
    }
   ],
   "source": [
    "m4 = modell3(10, method = rouwenhorst)\n",
    "m4.simulate(50)"
   ]
  },
  {
   "cell_type": "code",
   "execution_count": 26,
   "metadata": {},
   "outputs": [
    {
     "data": {
      "text/html": [
       "<style  type=\"text/css\" >\n",
       "</style><table id=\"T_b63f41bc_a2f7_11ed_8b5a_6014b3724730\" ><caption>Modell3 - Tauchen method</caption><thead>    <tr>        <th class=\"blank level0\" ></th>        <th class=\"col_heading level0 col0\" >0</th>        <th class=\"col_heading level0 col1\" >1</th>        <th class=\"col_heading level0 col2\" >2</th>        <th class=\"col_heading level0 col3\" >3</th>        <th class=\"col_heading level0 col4\" >4</th>        <th class=\"col_heading level0 col5\" >5</th>        <th class=\"col_heading level0 col6\" >6</th>        <th class=\"col_heading level0 col7\" >7</th>        <th class=\"col_heading level0 col8\" >8</th>        <th class=\"col_heading level0 col9\" >9</th>        <th class=\"col_heading level0 col10\" >10</th>        <th class=\"col_heading level0 col11\" >11</th>    </tr></thead><tbody>\n",
       "                <tr>\n",
       "                        <th id=\"T_b63f41bc_a2f7_11ed_8b5a_6014b3724730level0_row0\" class=\"row_heading level0 row0\" >state values</th>\n",
       "                        <td id=\"T_b63f41bc_a2f7_11ed_8b5a_6014b3724730row0_col0\" class=\"data row0 col0\" >-0.11</td>\n",
       "                        <td id=\"T_b63f41bc_a2f7_11ed_8b5a_6014b3724730row0_col1\" class=\"data row0 col1\" >-0.10</td>\n",
       "                        <td id=\"T_b63f41bc_a2f7_11ed_8b5a_6014b3724730row0_col2\" class=\"data row0 col2\" >-0.09</td>\n",
       "                        <td id=\"T_b63f41bc_a2f7_11ed_8b5a_6014b3724730row0_col3\" class=\"data row0 col3\" >-0.08</td>\n",
       "                        <td id=\"T_b63f41bc_a2f7_11ed_8b5a_6014b3724730row0_col4\" class=\"data row0 col4\" >-0.07</td>\n",
       "                        <td id=\"T_b63f41bc_a2f7_11ed_8b5a_6014b3724730row0_col5\" class=\"data row0 col5\" >-0.06</td>\n",
       "                        <td id=\"T_b63f41bc_a2f7_11ed_8b5a_6014b3724730row0_col6\" class=\"data row0 col6\" >-0.05</td>\n",
       "                        <td id=\"T_b63f41bc_a2f7_11ed_8b5a_6014b3724730row0_col7\" class=\"data row0 col7\" >-0.04</td>\n",
       "                        <td id=\"T_b63f41bc_a2f7_11ed_8b5a_6014b3724730row0_col8\" class=\"data row0 col8\" >-0.04</td>\n",
       "                        <td id=\"T_b63f41bc_a2f7_11ed_8b5a_6014b3724730row0_col9\" class=\"data row0 col9\" >-0.03</td>\n",
       "                        <td id=\"T_b63f41bc_a2f7_11ed_8b5a_6014b3724730row0_col10\" class=\"data row0 col10\" >-0.02</td>\n",
       "                        <td id=\"T_b63f41bc_a2f7_11ed_8b5a_6014b3724730row0_col11\" class=\"data row0 col11\" >-0.01</td>\n",
       "            </tr>\n",
       "            <tr>\n",
       "                        <th id=\"T_b63f41bc_a2f7_11ed_8b5a_6014b3724730level0_row1\" class=\"row_heading level0 row1\" >g function</th>\n",
       "                        <td id=\"T_b63f41bc_a2f7_11ed_8b5a_6014b3724730row1_col0\" class=\"data row1 col0\" >0.90</td>\n",
       "                        <td id=\"T_b63f41bc_a2f7_11ed_8b5a_6014b3724730row1_col1\" class=\"data row1 col1\" >0.91</td>\n",
       "                        <td id=\"T_b63f41bc_a2f7_11ed_8b5a_6014b3724730row1_col2\" class=\"data row1 col2\" >0.91</td>\n",
       "                        <td id=\"T_b63f41bc_a2f7_11ed_8b5a_6014b3724730row1_col3\" class=\"data row1 col3\" >0.92</td>\n",
       "                        <td id=\"T_b63f41bc_a2f7_11ed_8b5a_6014b3724730row1_col4\" class=\"data row1 col4\" >0.93</td>\n",
       "                        <td id=\"T_b63f41bc_a2f7_11ed_8b5a_6014b3724730row1_col5\" class=\"data row1 col5\" >0.94</td>\n",
       "                        <td id=\"T_b63f41bc_a2f7_11ed_8b5a_6014b3724730row1_col6\" class=\"data row1 col6\" >0.95</td>\n",
       "                        <td id=\"T_b63f41bc_a2f7_11ed_8b5a_6014b3724730row1_col7\" class=\"data row1 col7\" >0.96</td>\n",
       "                        <td id=\"T_b63f41bc_a2f7_11ed_8b5a_6014b3724730row1_col8\" class=\"data row1 col8\" >0.96</td>\n",
       "                        <td id=\"T_b63f41bc_a2f7_11ed_8b5a_6014b3724730row1_col9\" class=\"data row1 col9\" >0.97</td>\n",
       "                        <td id=\"T_b63f41bc_a2f7_11ed_8b5a_6014b3724730row1_col10\" class=\"data row1 col10\" >0.98</td>\n",
       "                        <td id=\"T_b63f41bc_a2f7_11ed_8b5a_6014b3724730row1_col11\" class=\"data row1 col11\" >0.99</td>\n",
       "            </tr>\n",
       "            <tr>\n",
       "                        <th id=\"T_b63f41bc_a2f7_11ed_8b5a_6014b3724730level0_row2\" class=\"row_heading level0 row2\" >price-dividend ratio</th>\n",
       "                        <td id=\"T_b63f41bc_a2f7_11ed_8b5a_6014b3724730row2_col0\" class=\"data row2 col0\" >4.96</td>\n",
       "                        <td id=\"T_b63f41bc_a2f7_11ed_8b5a_6014b3724730row2_col1\" class=\"data row2 col1\" >5.13</td>\n",
       "                        <td id=\"T_b63f41bc_a2f7_11ed_8b5a_6014b3724730row2_col2\" class=\"data row2 col2\" >5.35</td>\n",
       "                        <td id=\"T_b63f41bc_a2f7_11ed_8b5a_6014b3724730row2_col3\" class=\"data row2 col3\" >5.61</td>\n",
       "                        <td id=\"T_b63f41bc_a2f7_11ed_8b5a_6014b3724730row2_col4\" class=\"data row2 col4\" >5.90</td>\n",
       "                        <td id=\"T_b63f41bc_a2f7_11ed_8b5a_6014b3724730row2_col5\" class=\"data row2 col5\" >6.22</td>\n",
       "                        <td id=\"T_b63f41bc_a2f7_11ed_8b5a_6014b3724730row2_col6\" class=\"data row2 col6\" >6.56</td>\n",
       "                        <td id=\"T_b63f41bc_a2f7_11ed_8b5a_6014b3724730row2_col7\" class=\"data row2 col7\" >6.94</td>\n",
       "                        <td id=\"T_b63f41bc_a2f7_11ed_8b5a_6014b3724730row2_col8\" class=\"data row2 col8\" >7.36</td>\n",
       "                        <td id=\"T_b63f41bc_a2f7_11ed_8b5a_6014b3724730row2_col9\" class=\"data row2 col9\" >7.81</td>\n",
       "                        <td id=\"T_b63f41bc_a2f7_11ed_8b5a_6014b3724730row2_col10\" class=\"data row2 col10\" >8.30</td>\n",
       "                        <td id=\"T_b63f41bc_a2f7_11ed_8b5a_6014b3724730row2_col11\" class=\"data row2 col11\" >8.85</td>\n",
       "            </tr>\n",
       "            <tr>\n",
       "                        <th id=\"T_b63f41bc_a2f7_11ed_8b5a_6014b3724730level0_row3\" class=\"row_heading level0 row3\" >probability</th>\n",
       "                        <td id=\"T_b63f41bc_a2f7_11ed_8b5a_6014b3724730row3_col0\" class=\"data row3 col0\" >1.7e-03</td>\n",
       "                        <td id=\"T_b63f41bc_a2f7_11ed_8b5a_6014b3724730row3_col1\" class=\"data row3 col1\" >2.7e-03</td>\n",
       "                        <td id=\"T_b63f41bc_a2f7_11ed_8b5a_6014b3724730row3_col2\" class=\"data row3 col2\" >5.2e-03</td>\n",
       "                        <td id=\"T_b63f41bc_a2f7_11ed_8b5a_6014b3724730row3_col3\" class=\"data row3 col3\" >9.0e-03</td>\n",
       "                        <td id=\"T_b63f41bc_a2f7_11ed_8b5a_6014b3724730row3_col4\" class=\"data row3 col4\" >1.5e-02</td>\n",
       "                        <td id=\"T_b63f41bc_a2f7_11ed_8b5a_6014b3724730row3_col5\" class=\"data row3 col5\" >2.3e-02</td>\n",
       "                        <td id=\"T_b63f41bc_a2f7_11ed_8b5a_6014b3724730row3_col6\" class=\"data row3 col6\" >3.4e-02</td>\n",
       "                        <td id=\"T_b63f41bc_a2f7_11ed_8b5a_6014b3724730row3_col7\" class=\"data row3 col7\" >4.7e-02</td>\n",
       "                        <td id=\"T_b63f41bc_a2f7_11ed_8b5a_6014b3724730row3_col8\" class=\"data row3 col8\" >6.1e-02</td>\n",
       "                        <td id=\"T_b63f41bc_a2f7_11ed_8b5a_6014b3724730row3_col9\" class=\"data row3 col9\" >7.4e-02</td>\n",
       "                        <td id=\"T_b63f41bc_a2f7_11ed_8b5a_6014b3724730row3_col10\" class=\"data row3 col10\" >8.6e-02</td>\n",
       "                        <td id=\"T_b63f41bc_a2f7_11ed_8b5a_6014b3724730row3_col11\" class=\"data row3 col11\" >9.4e-02</td>\n",
       "            </tr>\n",
       "    </tbody></table>"
      ],
      "text/plain": [
       "<pandas.io.formats.style.Styler at 0x2088b6c7700>"
      ]
     },
     "execution_count": 26,
     "metadata": {},
     "output_type": "execute_result"
    }
   ],
   "source": [
    "data1 = {\"state values\" : [\"{:.2f}\".format(i) for i in m3.mc.state_values[:12]],\n",
    "        \"g function\" : [\"{:.2f}\".format(i) for i in np.exp(m3.mc.state_values)[:12]],\n",
    "        \"price-dividend ratio\" : [\"{:.2f}\".format(i) for i in list(m3.V.values())[:12]],\n",
    "        \"probability\" : [\"{:.1e}\".format(i) for i in m3.mc.stationary_distributions[0][:12]]}\n",
    "pd.DataFrame(data1).T.style.set_caption(\"Modell3 - Tauchen method\")"
   ]
  },
  {
   "cell_type": "code",
   "execution_count": 27,
   "metadata": {},
   "outputs": [
    {
     "data": {
      "text/html": [
       "<div>\n",
       "<style scoped>\n",
       "    .dataframe tbody tr th:only-of-type {\n",
       "        vertical-align: middle;\n",
       "    }\n",
       "\n",
       "    .dataframe tbody tr th {\n",
       "        vertical-align: top;\n",
       "    }\n",
       "\n",
       "    .dataframe thead th {\n",
       "        text-align: right;\n",
       "    }\n",
       "</style>\n",
       "<table border=\"1\" class=\"dataframe\">\n",
       "  <thead>\n",
       "    <tr style=\"text-align: right;\">\n",
       "      <th></th>\n",
       "      <th>12</th>\n",
       "      <th>13</th>\n",
       "      <th>14</th>\n",
       "      <th>15</th>\n",
       "      <th>16</th>\n",
       "      <th>17</th>\n",
       "      <th>18</th>\n",
       "      <th>19</th>\n",
       "      <th>20</th>\n",
       "      <th>21</th>\n",
       "      <th>22</th>\n",
       "      <th>23</th>\n",
       "      <th>24</th>\n",
       "    </tr>\n",
       "  </thead>\n",
       "  <tbody>\n",
       "    <tr>\n",
       "      <th>state values</th>\n",
       "      <td>0.00</td>\n",
       "      <td>0.01</td>\n",
       "      <td>0.02</td>\n",
       "      <td>0.03</td>\n",
       "      <td>0.04</td>\n",
       "      <td>0.04</td>\n",
       "      <td>0.05</td>\n",
       "      <td>0.06</td>\n",
       "      <td>0.07</td>\n",
       "      <td>0.08</td>\n",
       "      <td>0.09</td>\n",
       "      <td>0.10</td>\n",
       "      <td>0.11</td>\n",
       "    </tr>\n",
       "    <tr>\n",
       "      <th>g function</th>\n",
       "      <td>1.00</td>\n",
       "      <td>1.01</td>\n",
       "      <td>1.02</td>\n",
       "      <td>1.03</td>\n",
       "      <td>1.04</td>\n",
       "      <td>1.05</td>\n",
       "      <td>1.06</td>\n",
       "      <td>1.06</td>\n",
       "      <td>1.07</td>\n",
       "      <td>1.08</td>\n",
       "      <td>1.09</td>\n",
       "      <td>1.10</td>\n",
       "      <td>1.11</td>\n",
       "    </tr>\n",
       "    <tr>\n",
       "      <th>price-dividend ratio</th>\n",
       "      <td>9.45</td>\n",
       "      <td>10.12</td>\n",
       "      <td>10.85</td>\n",
       "      <td>11.66</td>\n",
       "      <td>12.57</td>\n",
       "      <td>13.57</td>\n",
       "      <td>14.67</td>\n",
       "      <td>15.90</td>\n",
       "      <td>17.23</td>\n",
       "      <td>18.67</td>\n",
       "      <td>20.17</td>\n",
       "      <td>21.62</td>\n",
       "      <td>22.80</td>\n",
       "    </tr>\n",
       "    <tr>\n",
       "      <th>probability</th>\n",
       "      <td>9.7e-02</td>\n",
       "      <td>9.4e-02</td>\n",
       "      <td>8.6e-02</td>\n",
       "      <td>7.4e-02</td>\n",
       "      <td>6.1e-02</td>\n",
       "      <td>4.7e-02</td>\n",
       "      <td>3.4e-02</td>\n",
       "      <td>2.3e-02</td>\n",
       "      <td>1.5e-02</td>\n",
       "      <td>9.0e-03</td>\n",
       "      <td>5.2e-03</td>\n",
       "      <td>2.7e-03</td>\n",
       "      <td>1.7e-03</td>\n",
       "    </tr>\n",
       "  </tbody>\n",
       "</table>\n",
       "</div>"
      ],
      "text/plain": [
       "                           12       13       14       15       16       17  \\\n",
       "state values             0.00     0.01     0.02     0.03     0.04     0.04   \n",
       "g function               1.00     1.01     1.02     1.03     1.04     1.05   \n",
       "price-dividend ratio     9.45    10.12    10.85    11.66    12.57    13.57   \n",
       "probability           9.7e-02  9.4e-02  8.6e-02  7.4e-02  6.1e-02  4.7e-02   \n",
       "\n",
       "                           18       19       20       21       22       23  \\\n",
       "state values             0.05     0.06     0.07     0.08     0.09     0.10   \n",
       "g function               1.06     1.06     1.07     1.08     1.09     1.10   \n",
       "price-dividend ratio    14.67    15.90    17.23    18.67    20.17    21.62   \n",
       "probability           3.4e-02  2.3e-02  1.5e-02  9.0e-03  5.2e-03  2.7e-03   \n",
       "\n",
       "                           24  \n",
       "state values             0.11  \n",
       "g function               1.11  \n",
       "price-dividend ratio    22.80  \n",
       "probability           1.7e-03  "
      ]
     },
     "execution_count": 27,
     "metadata": {},
     "output_type": "execute_result"
    }
   ],
   "source": [
    "data2 = {\"state values\" : [\"{:.2f}\".format(i) for i in m3.mc.state_values[12:]],\n",
    "        \"g function\" : [\"{:.2f}\".format(i) for i in np.exp(m3.mc.state_values)[12:]],\n",
    "        \"price-dividend ratio\" : [\"{:.2f}\".format(i) for i in list(m3.V.values())[12:]],\n",
    "        \"probability\" : [\"{:.1e}\".format(i) for i in m3.mc.stationary_distributions[0][12:]]}\n",
    "pd.DataFrame(data2, index = [12 + i for i in range(13)]).T"
   ]
  },
  {
   "cell_type": "code",
   "execution_count": 28,
   "metadata": {},
   "outputs": [
    {
     "data": {
      "text/html": [
       "<style  type=\"text/css\" >\n",
       "</style><table id=\"T_b82d0cde_a2f7_11ed_8862_6014b3724730\" ><caption>Modell3 - Rouwenhorst method</caption><thead>    <tr>        <th class=\"blank level0\" ></th>        <th class=\"col_heading level0 col0\" >0</th>        <th class=\"col_heading level0 col1\" >1</th>        <th class=\"col_heading level0 col2\" >2</th>        <th class=\"col_heading level0 col3\" >3</th>        <th class=\"col_heading level0 col4\" >4</th>        <th class=\"col_heading level0 col5\" >5</th>        <th class=\"col_heading level0 col6\" >6</th>        <th class=\"col_heading level0 col7\" >7</th>        <th class=\"col_heading level0 col8\" >8</th>        <th class=\"col_heading level0 col9\" >9</th>        <th class=\"col_heading level0 col10\" >10</th>        <th class=\"col_heading level0 col11\" >11</th>    </tr></thead><tbody>\n",
       "                <tr>\n",
       "                        <th id=\"T_b82d0cde_a2f7_11ed_8862_6014b3724730level0_row0\" class=\"row_heading level0 row0\" >state values</th>\n",
       "                        <td id=\"T_b82d0cde_a2f7_11ed_8862_6014b3724730row0_col0\" class=\"data row0 col0\" >-0.17</td>\n",
       "                        <td id=\"T_b82d0cde_a2f7_11ed_8862_6014b3724730row0_col1\" class=\"data row0 col1\" >-0.16</td>\n",
       "                        <td id=\"T_b82d0cde_a2f7_11ed_8862_6014b3724730row0_col2\" class=\"data row0 col2\" >-0.15</td>\n",
       "                        <td id=\"T_b82d0cde_a2f7_11ed_8862_6014b3724730row0_col3\" class=\"data row0 col3\" >-0.13</td>\n",
       "                        <td id=\"T_b82d0cde_a2f7_11ed_8862_6014b3724730row0_col4\" class=\"data row0 col4\" >-0.12</td>\n",
       "                        <td id=\"T_b82d0cde_a2f7_11ed_8862_6014b3724730row0_col5\" class=\"data row0 col5\" >-0.10</td>\n",
       "                        <td id=\"T_b82d0cde_a2f7_11ed_8862_6014b3724730row0_col6\" class=\"data row0 col6\" >-0.09</td>\n",
       "                        <td id=\"T_b82d0cde_a2f7_11ed_8862_6014b3724730row0_col7\" class=\"data row0 col7\" >-0.07</td>\n",
       "                        <td id=\"T_b82d0cde_a2f7_11ed_8862_6014b3724730row0_col8\" class=\"data row0 col8\" >-0.06</td>\n",
       "                        <td id=\"T_b82d0cde_a2f7_11ed_8862_6014b3724730row0_col9\" class=\"data row0 col9\" >-0.04</td>\n",
       "                        <td id=\"T_b82d0cde_a2f7_11ed_8862_6014b3724730row0_col10\" class=\"data row0 col10\" >-0.03</td>\n",
       "                        <td id=\"T_b82d0cde_a2f7_11ed_8862_6014b3724730row0_col11\" class=\"data row0 col11\" >-0.01</td>\n",
       "            </tr>\n",
       "            <tr>\n",
       "                        <th id=\"T_b82d0cde_a2f7_11ed_8862_6014b3724730level0_row1\" class=\"row_heading level0 row1\" >g function</th>\n",
       "                        <td id=\"T_b82d0cde_a2f7_11ed_8862_6014b3724730row1_col0\" class=\"data row1 col0\" >0.84</td>\n",
       "                        <td id=\"T_b82d0cde_a2f7_11ed_8862_6014b3724730row1_col1\" class=\"data row1 col1\" >0.85</td>\n",
       "                        <td id=\"T_b82d0cde_a2f7_11ed_8862_6014b3724730row1_col2\" class=\"data row1 col2\" >0.86</td>\n",
       "                        <td id=\"T_b82d0cde_a2f7_11ed_8862_6014b3724730row1_col3\" class=\"data row1 col3\" >0.88</td>\n",
       "                        <td id=\"T_b82d0cde_a2f7_11ed_8862_6014b3724730row1_col4\" class=\"data row1 col4\" >0.89</td>\n",
       "                        <td id=\"T_b82d0cde_a2f7_11ed_8862_6014b3724730row1_col5\" class=\"data row1 col5\" >0.90</td>\n",
       "                        <td id=\"T_b82d0cde_a2f7_11ed_8862_6014b3724730row1_col6\" class=\"data row1 col6\" >0.92</td>\n",
       "                        <td id=\"T_b82d0cde_a2f7_11ed_8862_6014b3724730row1_col7\" class=\"data row1 col7\" >0.93</td>\n",
       "                        <td id=\"T_b82d0cde_a2f7_11ed_8862_6014b3724730row1_col8\" class=\"data row1 col8\" >0.94</td>\n",
       "                        <td id=\"T_b82d0cde_a2f7_11ed_8862_6014b3724730row1_col9\" class=\"data row1 col9\" >0.96</td>\n",
       "                        <td id=\"T_b82d0cde_a2f7_11ed_8862_6014b3724730row1_col10\" class=\"data row1 col10\" >0.97</td>\n",
       "                        <td id=\"T_b82d0cde_a2f7_11ed_8862_6014b3724730row1_col11\" class=\"data row1 col11\" >0.99</td>\n",
       "            </tr>\n",
       "            <tr>\n",
       "                        <th id=\"T_b82d0cde_a2f7_11ed_8862_6014b3724730level0_row2\" class=\"row_heading level0 row2\" >price-dividend ratio</th>\n",
       "                        <td id=\"T_b82d0cde_a2f7_11ed_8862_6014b3724730row2_col0\" class=\"data row2 col0\" >3.54</td>\n",
       "                        <td id=\"T_b82d0cde_a2f7_11ed_8862_6014b3724730row2_col1\" class=\"data row2 col1\" >3.77</td>\n",
       "                        <td id=\"T_b82d0cde_a2f7_11ed_8862_6014b3724730row2_col2\" class=\"data row2 col2\" >4.02</td>\n",
       "                        <td id=\"T_b82d0cde_a2f7_11ed_8862_6014b3724730row2_col3\" class=\"data row2 col3\" >4.31</td>\n",
       "                        <td id=\"T_b82d0cde_a2f7_11ed_8862_6014b3724730row2_col4\" class=\"data row2 col4\" >4.62</td>\n",
       "                        <td id=\"T_b82d0cde_a2f7_11ed_8862_6014b3724730row2_col5\" class=\"data row2 col5\" >4.98</td>\n",
       "                        <td id=\"T_b82d0cde_a2f7_11ed_8862_6014b3724730row2_col6\" class=\"data row2 col6\" >5.38</td>\n",
       "                        <td id=\"T_b82d0cde_a2f7_11ed_8862_6014b3724730row2_col7\" class=\"data row2 col7\" >5.84</td>\n",
       "                        <td id=\"T_b82d0cde_a2f7_11ed_8862_6014b3724730row2_col8\" class=\"data row2 col8\" >6.37</td>\n",
       "                        <td id=\"T_b82d0cde_a2f7_11ed_8862_6014b3724730row2_col9\" class=\"data row2 col9\" >6.97</td>\n",
       "                        <td id=\"T_b82d0cde_a2f7_11ed_8862_6014b3724730row2_col10\" class=\"data row2 col10\" >7.67</td>\n",
       "                        <td id=\"T_b82d0cde_a2f7_11ed_8862_6014b3724730row2_col11\" class=\"data row2 col11\" >8.48</td>\n",
       "            </tr>\n",
       "            <tr>\n",
       "                        <th id=\"T_b82d0cde_a2f7_11ed_8862_6014b3724730level0_row3\" class=\"row_heading level0 row3\" >probability</th>\n",
       "                        <td id=\"T_b82d0cde_a2f7_11ed_8862_6014b3724730row3_col0\" class=\"data row3 col0\" >6.0e-08</td>\n",
       "                        <td id=\"T_b82d0cde_a2f7_11ed_8862_6014b3724730row3_col1\" class=\"data row3 col1\" >1.4e-06</td>\n",
       "                        <td id=\"T_b82d0cde_a2f7_11ed_8862_6014b3724730row3_col2\" class=\"data row3 col2\" >1.6e-05</td>\n",
       "                        <td id=\"T_b82d0cde_a2f7_11ed_8862_6014b3724730row3_col3\" class=\"data row3 col3\" >1.2e-04</td>\n",
       "                        <td id=\"T_b82d0cde_a2f7_11ed_8862_6014b3724730row3_col4\" class=\"data row3 col4\" >6.3e-04</td>\n",
       "                        <td id=\"T_b82d0cde_a2f7_11ed_8862_6014b3724730row3_col5\" class=\"data row3 col5\" >2.5e-03</td>\n",
       "                        <td id=\"T_b82d0cde_a2f7_11ed_8862_6014b3724730row3_col6\" class=\"data row3 col6\" >8.0e-03</td>\n",
       "                        <td id=\"T_b82d0cde_a2f7_11ed_8862_6014b3724730row3_col7\" class=\"data row3 col7\" >2.1e-02</td>\n",
       "                        <td id=\"T_b82d0cde_a2f7_11ed_8862_6014b3724730row3_col8\" class=\"data row3 col8\" >4.4e-02</td>\n",
       "                        <td id=\"T_b82d0cde_a2f7_11ed_8862_6014b3724730row3_col9\" class=\"data row3 col9\" >7.8e-02</td>\n",
       "                        <td id=\"T_b82d0cde_a2f7_11ed_8862_6014b3724730row3_col10\" class=\"data row3 col10\" >1.2e-01</td>\n",
       "                        <td id=\"T_b82d0cde_a2f7_11ed_8862_6014b3724730row3_col11\" class=\"data row3 col11\" >1.5e-01</td>\n",
       "            </tr>\n",
       "    </tbody></table>"
      ],
      "text/plain": [
       "<pandas.io.formats.style.Styler at 0x2088b7fdc70>"
      ]
     },
     "execution_count": 28,
     "metadata": {},
     "output_type": "execute_result"
    }
   ],
   "source": [
    "data3 = {\"state values\" : [\"{:.2f}\".format(i) for i in m4.mc.state_values[:12]],\n",
    "        \"g function\" : [\"{:.2f}\".format(i) for i in np.exp(m4.mc.state_values)[:12]],\n",
    "        \"price-dividend ratio\" : [\"{:.2f}\".format(i) for i in list(m4.V.values())[:12]],\n",
    "        \"probability\" : [\"{:.1e}\".format(i) for i in m4.mc.stationary_distributions[0][:12]]}\n",
    "pd.DataFrame(data3).T.style.set_caption(\"Modell3 - Rouwenhorst method\")"
   ]
  },
  {
   "cell_type": "code",
   "execution_count": 29,
   "metadata": {},
   "outputs": [
    {
     "data": {
      "text/html": [
       "<div>\n",
       "<style scoped>\n",
       "    .dataframe tbody tr th:only-of-type {\n",
       "        vertical-align: middle;\n",
       "    }\n",
       "\n",
       "    .dataframe tbody tr th {\n",
       "        vertical-align: top;\n",
       "    }\n",
       "\n",
       "    .dataframe thead th {\n",
       "        text-align: right;\n",
       "    }\n",
       "</style>\n",
       "<table border=\"1\" class=\"dataframe\">\n",
       "  <thead>\n",
       "    <tr style=\"text-align: right;\">\n",
       "      <th></th>\n",
       "      <th>12</th>\n",
       "      <th>13</th>\n",
       "      <th>14</th>\n",
       "      <th>15</th>\n",
       "      <th>16</th>\n",
       "      <th>17</th>\n",
       "      <th>18</th>\n",
       "      <th>19</th>\n",
       "      <th>20</th>\n",
       "      <th>21</th>\n",
       "      <th>22</th>\n",
       "      <th>23</th>\n",
       "      <th>24</th>\n",
       "    </tr>\n",
       "  </thead>\n",
       "  <tbody>\n",
       "    <tr>\n",
       "      <th>state values</th>\n",
       "      <td>0.00</td>\n",
       "      <td>0.01</td>\n",
       "      <td>0.03</td>\n",
       "      <td>0.04</td>\n",
       "      <td>0.06</td>\n",
       "      <td>0.07</td>\n",
       "      <td>0.09</td>\n",
       "      <td>0.10</td>\n",
       "      <td>0.12</td>\n",
       "      <td>0.13</td>\n",
       "      <td>0.15</td>\n",
       "      <td>0.16</td>\n",
       "      <td>0.17</td>\n",
       "    </tr>\n",
       "    <tr>\n",
       "      <th>g function</th>\n",
       "      <td>1.00</td>\n",
       "      <td>1.01</td>\n",
       "      <td>1.03</td>\n",
       "      <td>1.04</td>\n",
       "      <td>1.06</td>\n",
       "      <td>1.08</td>\n",
       "      <td>1.09</td>\n",
       "      <td>1.11</td>\n",
       "      <td>1.12</td>\n",
       "      <td>1.14</td>\n",
       "      <td>1.16</td>\n",
       "      <td>1.17</td>\n",
       "      <td>1.19</td>\n",
       "    </tr>\n",
       "    <tr>\n",
       "      <th>price-dividend ratio</th>\n",
       "      <td>9.43</td>\n",
       "      <td>10.54</td>\n",
       "      <td>11.86</td>\n",
       "      <td>13.43</td>\n",
       "      <td>15.32</td>\n",
       "      <td>17.59</td>\n",
       "      <td>20.35</td>\n",
       "      <td>23.71</td>\n",
       "      <td>27.83</td>\n",
       "      <td>32.92</td>\n",
       "      <td>39.23</td>\n",
       "      <td>47.09</td>\n",
       "      <td>56.95</td>\n",
       "    </tr>\n",
       "    <tr>\n",
       "      <th>probability</th>\n",
       "      <td>1.6e-01</td>\n",
       "      <td>1.5e-01</td>\n",
       "      <td>1.2e-01</td>\n",
       "      <td>7.8e-02</td>\n",
       "      <td>4.4e-02</td>\n",
       "      <td>2.1e-02</td>\n",
       "      <td>8.0e-03</td>\n",
       "      <td>2.5e-03</td>\n",
       "      <td>6.3e-04</td>\n",
       "      <td>1.2e-04</td>\n",
       "      <td>1.6e-05</td>\n",
       "      <td>1.4e-06</td>\n",
       "      <td>6.0e-08</td>\n",
       "    </tr>\n",
       "  </tbody>\n",
       "</table>\n",
       "</div>"
      ],
      "text/plain": [
       "                           12       13       14       15       16       17  \\\n",
       "state values             0.00     0.01     0.03     0.04     0.06     0.07   \n",
       "g function               1.00     1.01     1.03     1.04     1.06     1.08   \n",
       "price-dividend ratio     9.43    10.54    11.86    13.43    15.32    17.59   \n",
       "probability           1.6e-01  1.5e-01  1.2e-01  7.8e-02  4.4e-02  2.1e-02   \n",
       "\n",
       "                           18       19       20       21       22       23  \\\n",
       "state values             0.09     0.10     0.12     0.13     0.15     0.16   \n",
       "g function               1.09     1.11     1.12     1.14     1.16     1.17   \n",
       "price-dividend ratio    20.35    23.71    27.83    32.92    39.23    47.09   \n",
       "probability           8.0e-03  2.5e-03  6.3e-04  1.2e-04  1.6e-05  1.4e-06   \n",
       "\n",
       "                           24  \n",
       "state values             0.17  \n",
       "g function               1.19  \n",
       "price-dividend ratio    56.95  \n",
       "probability           6.0e-08  "
      ]
     },
     "execution_count": 29,
     "metadata": {},
     "output_type": "execute_result"
    }
   ],
   "source": [
    "data4 = {\"state values\" : [\"{:.2f}\".format(i) for i in m4.mc.state_values[12:]],\n",
    "        \"g function\" : [\"{:.2f}\".format(i) for i in np.exp(m4.mc.state_values)[12:]],\n",
    "        \"price-dividend ratio\" : [\"{:.2f}\".format(i) for i in list(m4.V.values())[12:]],\n",
    "        \"probability\" : [\"{:.1e}\".format(i) for i in m4.mc.stationary_distributions[0][12:]]}\n",
    "pd.DataFrame(data4, index = [12 + i for i in range(13)]).T"
   ]
  }
 ],
 "metadata": {
  "kernelspec": {
   "display_name": "Python 3",
   "language": "python",
   "name": "python3"
  },
  "language_info": {
   "codemirror_mode": {
    "name": "ipython",
    "version": 3
   },
   "file_extension": ".py",
   "mimetype": "text/x-python",
   "name": "python",
   "nbconvert_exporter": "python",
   "pygments_lexer": "ipython3",
   "version": "3.8.5"
  }
 },
 "nbformat": 4,
 "nbformat_minor": 4
}
